{
 "cells": [
  {
   "cell_type": "markdown",
   "metadata": {},
   "source": [
    "# _Tasca 2, Sprint 3_ *Data Structures* "
   ]
  },
  {
   "cell_type": "markdown",
   "metadata": {
    "ExecuteTime": {
     "end_time": "2021-01-12T14:58:51.684805Z",
     "start_time": "2021-01-12T14:58:51.681499Z"
    }
   },
   "source": [
    "## Exercise 1\n",
    "\n",
    "Create a list that groups the months of the year into quarters (Q1: January, February and March, Q2: April, May, June ...), that is, a list with 4 lists inside."
   ]
  },
  {
   "cell_type": "code",
   "execution_count": 1,
   "metadata": {},
   "outputs": [],
   "source": [
    "q1 = ['January', 'February', 'March']\n",
    "q2 = ['April', 'May', 'June']\n",
    "q3 = ['July', 'August', 'September']\n",
    "q4 = ['October', 'November', 'December']"
   ]
  },
  {
   "cell_type": "code",
   "execution_count": 2,
   "metadata": {
    "ExecuteTime": {
     "end_time": "2021-01-12T14:58:51.718214Z",
     "start_time": "2021-01-12T14:58:51.715008Z"
    }
   },
   "outputs": [
    {
     "data": {
      "text/plain": [
       "[['January', 'February', 'March'],\n",
       " ['April', 'May', 'June'],\n",
       " ['July', 'August', 'September'],\n",
       " ['October', 'November', 'December']]"
      ]
     },
     "execution_count": 2,
     "metadata": {},
     "output_type": "execute_result"
    }
   ],
   "source": [
    "months = [q1, q2, q3, q4]\n",
    "months"
   ]
  },
  {
   "cell_type": "markdown",
   "metadata": {},
   "source": [
    "## Exercise 2\n",
    "\n",
    "Create a code that allows you to access:\n",
    "\n",
    "    The second month of the first quarter\n",
    "    The months of the first quarter\n",
    "    September and October"
   ]
  },
  {
   "cell_type": "code",
   "execution_count": 3,
   "metadata": {},
   "outputs": [
    {
     "name": "stdout",
     "output_type": "stream",
     "text": [
      "The second month of the first quarter is: February\n"
     ]
    }
   ],
   "source": [
    "t1 = q1[1]\n",
    "print('The second month of the first quarter is: ' + t1)"
   ]
  },
  {
   "cell_type": "code",
   "execution_count": 4,
   "metadata": {},
   "outputs": [
    {
     "name": "stdout",
     "output_type": "stream",
     "text": [
      "The months of the first quarter are: January, February and March\n"
     ]
    }
   ],
   "source": [
    "t2 = q1\n",
    "print('The months of the first quarter are: ' + t2[0] + ', ' + t2[1] + ' and ' + t2[2] )"
   ]
  },
  {
   "cell_type": "code",
   "execution_count": 5,
   "metadata": {},
   "outputs": [
    {
     "name": "stdout",
     "output_type": "stream",
     "text": [
      "September and October\n"
     ]
    }
   ],
   "source": [
    "t3 = [q3[2], q4[0]]\n",
    "print(t3[0] + ' and ' + t3[1])"
   ]
  },
  {
   "cell_type": "markdown",
   "metadata": {},
   "source": [
    "## Exercise 3\n",
    "\n",
    "Create a list of disordered numbers and answer the following questions:\n",
    "\n",
    "    1. How many numbers are there?\n",
    "    2. How many times does the number 3 appear\n",
    "    3. How many times do the numbers 3 and 4 appear?\n",
    "    4. What is the largest number?\n",
    "    5. What are the 3 smallest numbers?\n",
    "    6. What is the range of this list?"
   ]
  },
  {
   "cell_type": "code",
   "execution_count": 6,
   "metadata": {},
   "outputs": [
    {
     "name": "stdout",
     "output_type": "stream",
     "text": [
      "[14, 1, 34, 3, 11, 16, 2, 4, 10, 24, 44, 8, 22, 30, 23, 18, 26, 17, 12, 38]\n"
     ]
    }
   ],
   "source": [
    "import random\n",
    "random.seed(15)\n",
    "numbers = random.sample(range(1, 50), 20)\n",
    "print(numbers)"
   ]
  },
  {
   "cell_type": "code",
   "execution_count": 7,
   "metadata": {},
   "outputs": [
    {
     "name": "stdout",
     "output_type": "stream",
     "text": [
      "Total numbers: 20\n",
      "Number 3: 1\n",
      "Number 3 and 4: 1 and 1\n",
      "The largest number: 44\n",
      "The 3 smallest numbers: [1, 2, 3]\n",
      "The range of the list: 1 to 44\n"
     ]
    }
   ],
   "source": [
    "print ('Total numbers: ' + str(len(numbers)))\n",
    "print ('Number 3: ' + str(numbers.count(3)))\n",
    "print ('Number 3 and 4: ' + str(numbers.count(3)) + ' and ' + str(numbers.count(3)))\n",
    "print ('The largest number: ' + str(max(numbers)))\n",
    "print ('The 3 smallest numbers: ' + str(sorted(numbers)[:3]))\n",
    "print ('The range of the list: ' + str(min(numbers)) + ' to ' + str(max(numbers)))"
   ]
  },
  {
   "cell_type": "markdown",
   "metadata": {},
   "source": [
    "**Answers to the questions for Excercise 3:**\n",
    "\n",
    "    1. There are 20 numbers in the list\n",
    "    2. Number 3 appears 1 times\n",
    "    3. Number 3 and 4 appears 1 and 1 times\n",
    "    4. The largest number is 44\n",
    "    5. The 3 smallest numbers are 1, 2, and 3\n",
    "    6. The range of the list is [1, 44]"
   ]
  },
  {
   "cell_type": "markdown",
   "metadata": {},
   "source": [
    "##  Exercise 4\n",
    "\n",
    "Create a dictionary as follows and answer the questions:\n",
    "\n",
    "purchase = {\"Apples\": {\"Qty\": 5, \"€\": 0.42}, \"Pears\": {\"Qty\": 3, \"€\": 0.66}}\n",
    "\n",
    "    1. Add some more fruit\n",
    "    2. How much did the pears cost in total?\n",
    "    3. How many fruits did we buy in total?\n",
    "    4. What is the most expensive fruit?"
   ]
  },
  {
   "cell_type": "code",
   "execution_count": 8,
   "metadata": {},
   "outputs": [
    {
     "data": {
      "text/plain": [
       "{'Apples': {'Qty': 5, '€': 0.42},\n",
       " 'Pears': {'Qty': 3, '€': 0.66},\n",
       " 'Bananas': {'Qty': 7, '€': 0.36},\n",
       " 'Peaches': {'Qty': 2, '€': 0.76},\n",
       " 'Mangoes': {'Qty': 2, '€': 1.58},\n",
       " 'Pineapples': {'Qty': 0, '€': 1.38}}"
      ]
     },
     "execution_count": 8,
     "metadata": {},
     "output_type": "execute_result"
    }
   ],
   "source": [
    "purchase = {\"Apples\": {\"Qty\": 5, \"€\": 0.42}, \"Pears\": {\"Qty\": 3, \"€\": 0.66}, \"Bananas\": {\"Qty\": 7, \"€\": 0.36}, \"Peaches\": {\"Qty\": 2, \"€\": 0.76}, \"Mangoes\": {\"Qty\": 2, \"€\": 1.58}, \"Pineapples\": {\"Qty\": 0, \"€\": 1.38}}\n",
    "purchase"
   ]
  },
  {
   "cell_type": "code",
   "execution_count": 9,
   "metadata": {},
   "outputs": [
    {
     "name": "stdout",
     "output_type": "stream",
     "text": [
      "Total cost of Pears: 1.98\n"
     ]
    }
   ],
   "source": [
    "fruit = \"Pears\" # fruit for which we want to know the total cost\n",
    "cost_fruit = purchase[fruit][\"Qty\"] * purchase[fruit][\"€\"]\n",
    "print('Total cost of ' + fruit + ': ' + str(cost_fruit))"
   ]
  },
  {
   "cell_type": "code",
   "execution_count": 10,
   "metadata": {},
   "outputs": [
    {
     "name": "stdout",
     "output_type": "stream",
     "text": [
      "['Apples', 'Pears', 'Bananas', 'Peaches', 'Mangoes', 'Pineapples']\n",
      "Apples: 5\n",
      "Pears: 3\n",
      "Bananas: 7\n",
      "Peaches: 2\n",
      "Mangoes: 2\n",
      "Pineapples: 0\n",
      "Fruits bought in total: 19\n"
     ]
    }
   ],
   "source": [
    "# Let's get the list of fruits in the purchase list\n",
    "fruitlist = []\n",
    "fruitlist = [item[:] for item in purchase]\n",
    "print(fruitlist)\n",
    "\n",
    "# The following calculates the quantity of each fruit in the list and adds them\n",
    "totalfruits = 0\n",
    "for fruit in fruitlist:\n",
    "    totalfruits = totalfruits + purchase[fruit][\"Qty\"]\n",
    "    print(fruit + ': ' + str(purchase[fruit][\"Qty\"]))\n",
    "\n",
    "print('Fruits bought in total: ' + str(totalfruits))"
   ]
  },
  {
   "cell_type": "code",
   "execution_count": 11,
   "metadata": {},
   "outputs": [
    {
     "name": "stdout",
     "output_type": "stream",
     "text": [
      "[[0.42], [0.66], [0.36], [0.76], [1.58], [1.38]]\n"
     ]
    }
   ],
   "source": [
    "price = []\n",
    "for fruit in fruitlist:\n",
    "    cost = [purchase[fruit][\"€\"]]\n",
    "    #print(cost)\n",
    "    price.append(cost)\n",
    "print(price)"
   ]
  },
  {
   "cell_type": "code",
   "execution_count": 12,
   "metadata": {},
   "outputs": [
    {
     "name": "stdout",
     "output_type": "stream",
     "text": [
      "Expensive fruit: Mangoes\n"
     ]
    }
   ],
   "source": [
    "x = max(price)\n",
    "for fruit in fruitlist:\n",
    "    if x[0] == purchase[fruit][\"€\"]:\n",
    "        print('Expensive fruit: ' + fruit)"
   ]
  },
  {
   "cell_type": "markdown",
   "metadata": {},
   "source": [
    "**Answers to the questions for Excercise 4:**\n",
    "\n",
    "    1. Added Bananas, Peaches, Mangoes and Pineapples.\n",
    "    2. Pears cost 1.98 € in total.\n",
    "    3. We bought 19 fruits in total.\n",
    "    4. The most expensive fruit is Mango. "
   ]
  }
 ],
 "metadata": {
  "kernelspec": {
   "display_name": "Python 3",
   "language": "python",
   "name": "python3"
  },
  "language_info": {
   "codemirror_mode": {
    "name": "ipython",
    "version": 3
   },
   "file_extension": ".py",
   "mimetype": "text/x-python",
   "name": "python",
   "nbconvert_exporter": "python",
   "pygments_lexer": "ipython3",
   "version": "3.6.5"
  },
  "latex_envs": {
   "LaTeX_envs_menu_present": true,
   "autoclose": false,
   "autocomplete": true,
   "bibliofile": "biblio.bib",
   "cite_by": "apalike",
   "current_citInitial": 1,
   "eqLabelWithNumbers": true,
   "eqNumInitial": 1,
   "hotkeys": {
    "equation": "Ctrl-E",
    "itemize": "Ctrl-I"
   },
   "labels_anchors": false,
   "latex_user_defs": false,
   "report_style_numbering": false,
   "user_envs_cfg": false
  },
  "nbTranslate": {
   "displayLangs": [
    "*"
   ],
   "hotkey": "alt-t",
   "langInMainMenu": true,
   "sourceLang": "en",
   "targetLang": "fr",
   "useGoogleTranslate": true
  },
  "toc": {
   "base_numbering": 1,
   "nav_menu": {},
   "number_sections": true,
   "sideBar": true,
   "skip_h1_title": false,
   "title_cell": "Table of Contents",
   "title_sidebar": "Contents",
   "toc_cell": false,
   "toc_position": {
    "height": "calc(100% - 180px)",
    "left": "10px",
    "top": "150px",
    "width": "336px"
   },
   "toc_section_display": true,
   "toc_window_display": true
  },
  "varInspector": {
   "cols": {
    "lenName": 16,
    "lenType": 16,
    "lenVar": 40
   },
   "kernels_config": {
    "python": {
     "delete_cmd_postfix": "",
     "delete_cmd_prefix": "del ",
     "library": "var_list.py",
     "varRefreshCmd": "print(var_dic_list())"
    },
    "r": {
     "delete_cmd_postfix": ") ",
     "delete_cmd_prefix": "rm(",
     "library": "var_list.r",
     "varRefreshCmd": "cat(var_dic_list()) "
    }
   },
   "types_to_exclude": [
    "module",
    "function",
    "builtin_function_or_method",
    "instance",
    "_Feature"
   ],
   "window_display": false
  }
 },
 "nbformat": 4,
 "nbformat_minor": 2
}
